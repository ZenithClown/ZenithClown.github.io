{
 "cells": [
  {
   "cell_type": "markdown",
   "id": "0e432c39",
   "metadata": {},
   "source": [
    "<h1 align = \"center\">Introduction to <code>dataclasses</code></h1>\n",
    "\n",
    "---\n",
    "\n",
    "Among various *[python runtime servies](https://docs.python.org/3/library/python.html)*, the **[`dataclasses`](https://docs.python.org/3/library/dataclasses.html)** module provides a decorator and functions for automatically adding special methods (such as `__init__()` and `__repr__()`) to a given user-defined classes. In this notebook, a simple guide is provided which I have personally used/using in some of my projects. In addition, a general structure of dataclass (blueprint) is defined at the end. Helpful Links:\n",
    "* https://zetcode.com/python/dataclass/\n",
    "* https://www.infoworld.com/article/3563878/how-to-use-python-dataclasses.html"
   ]
  },
  {
   "cell_type": "code",
   "execution_count": 105,
   "id": "46c06ede",
   "metadata": {
    "ExecuteTime": {
     "end_time": "2022-03-21T18:27:25.346614Z",
     "start_time": "2022-03-21T18:27:25.327286Z"
    },
    "deletable": false,
    "editable": false
   },
   "outputs": [],
   "source": [
    "import inspect # required for adv. handling; check boilerplate\n",
    "import warnings # warnings module to warn user of certain things"
   ]
  },
  {
   "cell_type": "code",
   "execution_count": 99,
   "id": "ee1a97f2",
   "metadata": {
    "ExecuteTime": {
     "end_time": "2022-03-21T18:17:44.908916Z",
     "start_time": "2022-03-21T18:17:44.903196Z"
    },
    "deletable": false,
    "editable": false
   },
   "outputs": [],
   "source": [
    "from dataclasses import (\n",
    "    asdict,\n",
    "    dataclass,\n",
    "    field,\n",
    "    fields\n",
    ")"
   ]
  },
  {
   "cell_type": "markdown",
   "id": "257241b7",
   "metadata": {},
   "source": [
    "## Defining a Data Class"
   ]
  },
  {
   "cell_type": "code",
   "execution_count": 65,
   "id": "e0d814ab",
   "metadata": {
    "ExecuteTime": {
     "end_time": "2022-03-21T17:36:54.937130Z",
     "start_time": "2022-03-21T17:36:54.921132Z"
    }
   },
   "outputs": [],
   "source": [
    "@dataclass()\n",
    "class MyClass(object):\n",
    "    name : str\n",
    "    height : float\n",
    "    weight : float"
   ]
  },
  {
   "cell_type": "code",
   "execution_count": 7,
   "id": "9495e3a7",
   "metadata": {
    "ExecuteTime": {
     "end_time": "2022-02-25T06:45:11.760627Z",
     "start_time": "2022-02-25T06:45:11.751835Z"
    }
   },
   "outputs": [
    {
     "name": "stdout",
     "output_type": "stream",
     "text": [
      "MyClass(name='Debmalya Pramanik', height=168.0, weight=78.8) MyClass(name='Debmalya Pramanik', height=168.0, weight=78.8) {'name': 'Debmalya Pramanik', 'height': 168.0, 'weight': 78.8}\n"
     ]
    }
   ],
   "source": [
    "obj = MyClass(\"Debmalya Pramanik\", 168.0, 78.8)\n",
    "print(obj, repr(obj), asdict(obj))"
   ]
  },
  {
   "cell_type": "markdown",
   "id": "a6cb21af",
   "metadata": {},
   "source": [
    "### Controlling `repr` and `str` Functionalities"
   ]
  },
  {
   "cell_type": "code",
   "execution_count": 66,
   "id": "ab21bda4",
   "metadata": {
    "ExecuteTime": {
     "end_time": "2022-03-21T17:37:24.628001Z",
     "start_time": "2022-03-21T17:37:24.606533Z"
    }
   },
   "outputs": [],
   "source": [
    "@dataclass\n",
    "class MyClass(object):\n",
    "    name : str\n",
    "    height : float = field(default = 168.2)\n",
    "    weight : float = field(default = 78.80, repr = False)"
   ]
  },
  {
   "cell_type": "code",
   "execution_count": 11,
   "id": "98af784c",
   "metadata": {
    "ExecuteTime": {
     "end_time": "2022-02-25T06:47:30.383956Z",
     "start_time": "2022-02-25T06:47:30.368407Z"
    }
   },
   "outputs": [
    {
     "name": "stdout",
     "output_type": "stream",
     "text": [
      "MyClass(name='Debmalya Pramanik', height=168.2) MyClass(name='Debmalya Pramanik', height=168.2) {'name': 'Debmalya Pramanik', 'height': 168.2, 'weight': 78.8}\n"
     ]
    }
   ],
   "source": [
    "obj = MyClass(\"Debmalya Pramanik\")\n",
    "print(obj, repr(obj), asdict(obj))"
   ]
  },
  {
   "cell_type": "markdown",
   "id": "cdc724cf",
   "metadata": {},
   "source": [
    "### Inherit `dataclass` and Initialize"
   ]
  },
  {
   "cell_type": "code",
   "execution_count": 12,
   "id": "08814312",
   "metadata": {
    "ExecuteTime": {
     "end_time": "2022-02-25T06:49:14.802065Z",
     "start_time": "2022-02-25T06:49:14.797065Z"
    }
   },
   "outputs": [
    {
     "name": "stdout",
     "output_type": "stream",
     "text": [
      "ActualClass(name='Debmalya Pramanik', height=168.2) ActualClass(name='Debmalya Pramanik', height=168.2) {'name': 'Debmalya Pramanik', 'height': 168.2, 'weight': 78.8}\n"
     ]
    }
   ],
   "source": [
    "class ActualClass(MyClass):\n",
    "    def __init__(self, *args, **kwargs):\n",
    "        super().__init__(*args, **kwargs)\n",
    "        \n",
    "obj = ActualClass(\"Debmalya Pramanik\")\n",
    "print(obj, repr(obj), asdict(obj))"
   ]
  },
  {
   "cell_type": "markdown",
   "id": "3861f585",
   "metadata": {},
   "source": [
    "## Controls and Adv. Functionalities\n",
    "\n",
    "In dataclass, a function can be defined to control its behaviour. In addition, `@property` and other methods can also be defined as shown below.\n",
    "\n",
    "### `@property` in a dataclass"
   ]
  },
  {
   "cell_type": "code",
   "execution_count": 67,
   "id": "a0ca9358",
   "metadata": {
    "ExecuteTime": {
     "end_time": "2022-03-21T17:41:52.322830Z",
     "start_time": "2022-03-21T17:41:52.310600Z"
    }
   },
   "outputs": [],
   "source": [
    "@dataclass\n",
    "class EmployeeDetails(object):\n",
    "    firstName  : str\n",
    "    familyName : str\n",
    "        \n",
    "    @property\n",
    "    def fullName(self) -> str:\n",
    "        # this is not displayed in `repr`\n",
    "        return self.firstName + \" \" + self.familyName"
   ]
  },
  {
   "cell_type": "code",
   "execution_count": 74,
   "id": "304c166e",
   "metadata": {
    "ExecuteTime": {
     "end_time": "2022-03-21T17:43:56.330001Z",
     "start_time": "2022-03-21T17:43:56.309518Z"
    }
   },
   "outputs": [
    {
     "data": {
      "text/plain": [
       "(\"EmployeeDetails(firstName='Debmalya', familyName='Pramanik')\",\n",
       " 'Debmalya Pramanik')"
      ]
     },
     "execution_count": 74,
     "metadata": {},
     "output_type": "execute_result"
    }
   ],
   "source": [
    "emp = EmployeeDetails(\"Debmalya\", \"Pramanik\")\n",
    "repr(emp), emp.fullName"
   ]
  },
  {
   "cell_type": "markdown",
   "id": "a8e58c54",
   "metadata": {},
   "source": [
    "### Adding methods"
   ]
  },
  {
   "cell_type": "code",
   "execution_count": 76,
   "id": "d3a6752b",
   "metadata": {
    "ExecuteTime": {
     "end_time": "2022-03-21T17:47:53.021412Z",
     "start_time": "2022-03-21T17:47:53.004977Z"
    }
   },
   "outputs": [
    {
     "data": {
      "text/plain": [
       "(\"EmployeeDetails(firstName='Debmalya', familyName='Pramanik', designation='manager')\",\n",
       " 'Debmalya Pramanik',\n",
       " 'Salary = 15000; Argument (arg) = None')"
      ]
     },
     "execution_count": 76,
     "metadata": {},
     "output_type": "execute_result"
    }
   ],
   "source": [
    "@dataclass\n",
    "class EmployeeDetails(object):\n",
    "    firstName   : str\n",
    "    familyName  : str\n",
    "    designation : str = field(default = \"manager\")\n",
    "        \n",
    "    @property\n",
    "    def fullName(self) -> str:\n",
    "        # this is not displayed in `repr`\n",
    "        return self.firstName + \" \" + self.familyName\n",
    "    \n",
    "    def salary(self, arg : any = None) -> str:\n",
    "        # let's add one `arg` so that we know we can control\n",
    "        # the method inside dataclass, in addition any features\n",
    "        # can be defined/worked in dataclasses as below\n",
    "        if self.designation == \"manager\":\n",
    "            s = 15_000\n",
    "        else:\n",
    "            s = 10_000\n",
    "            \n",
    "        return f\"Salary = {s}; Argument (arg) = {arg}\"\n",
    "    \n",
    "emp = EmployeeDetails(\"Debmalya\", \"Pramanik\")\n",
    "repr(emp), emp.fullName, emp.salary()"
   ]
  },
  {
   "cell_type": "markdown",
   "id": "24a6b963",
   "metadata": {},
   "source": [
    "### Controlling with `__post_init__`"
   ]
  },
  {
   "cell_type": "code",
   "execution_count": 8,
   "id": "738f9946",
   "metadata": {
    "ExecuteTime": {
     "end_time": "2022-02-26T17:42:25.893276Z",
     "start_time": "2022-02-26T17:42:25.886670Z"
    }
   },
   "outputs": [],
   "source": [
    "@dataclass\n",
    "class distance(object):\n",
    "    \"\"\"\n",
    "    Base distance class provides module defaults\n",
    "    for keyword arguments and/or other parameters.\n",
    "    \"\"\"\n",
    "    \n",
    "    input_distance_unit  : str = field(default = \"km\")\n",
    "    output_distance_unit : str = field(default = \"km\")\n",
    "\n",
    "    def __post_init__(self):\n",
    "        if self.input_distance_unit not in [\"km\", \"m\"]:\n",
    "            raise ValueError()"
   ]
  },
  {
   "cell_type": "code",
   "execution_count": 11,
   "id": "96aed510",
   "metadata": {
    "ExecuteTime": {
     "end_time": "2022-02-26T17:42:38.865000Z",
     "start_time": "2022-02-26T17:42:38.838603Z"
    }
   },
   "outputs": [
    {
     "ename": "ValueError",
     "evalue": "",
     "output_type": "error",
     "traceback": [
      "\u001b[1;31m---------------------------------------------------------------------------\u001b[0m",
      "\u001b[1;31mValueError\u001b[0m                                Traceback (most recent call last)",
      "\u001b[1;32m~\\AppData\\Local\\Temp/ipykernel_3908/1857654054.py\u001b[0m in \u001b[0;36m<module>\u001b[1;34m\u001b[0m\n\u001b[1;32m----> 1\u001b[1;33m \u001b[0mobj\u001b[0m \u001b[1;33m=\u001b[0m \u001b[0mdistance\u001b[0m\u001b[1;33m(\u001b[0m\u001b[0minput_distance_unit\u001b[0m \u001b[1;33m=\u001b[0m \u001b[1;34m\"jh\"\u001b[0m\u001b[1;33m)\u001b[0m\u001b[1;33m\u001b[0m\u001b[1;33m\u001b[0m\u001b[0m\n\u001b[0m\u001b[0;32m      2\u001b[0m \u001b[0mobj\u001b[0m\u001b[1;33m\u001b[0m\u001b[1;33m\u001b[0m\u001b[0m\n",
      "\u001b[1;32m<string>\u001b[0m in \u001b[0;36m__init__\u001b[1;34m(self, input_distance_unit, output_distance_unit)\u001b[0m\n",
      "\u001b[1;32m~\\AppData\\Local\\Temp/ipykernel_3908/3817105253.py\u001b[0m in \u001b[0;36m__post_init__\u001b[1;34m(self)\u001b[0m\n\u001b[0;32m     11\u001b[0m     \u001b[1;32mdef\u001b[0m \u001b[0m__post_init__\u001b[0m\u001b[1;33m(\u001b[0m\u001b[0mself\u001b[0m\u001b[1;33m)\u001b[0m\u001b[1;33m:\u001b[0m\u001b[1;33m\u001b[0m\u001b[1;33m\u001b[0m\u001b[0m\n\u001b[0;32m     12\u001b[0m         \u001b[1;32mif\u001b[0m \u001b[0mself\u001b[0m\u001b[1;33m.\u001b[0m\u001b[0minput_distance_unit\u001b[0m \u001b[1;32mnot\u001b[0m \u001b[1;32min\u001b[0m \u001b[1;33m[\u001b[0m\u001b[1;34m\"km\"\u001b[0m\u001b[1;33m,\u001b[0m \u001b[1;34m\"m\"\u001b[0m\u001b[1;33m]\u001b[0m\u001b[1;33m:\u001b[0m\u001b[1;33m\u001b[0m\u001b[1;33m\u001b[0m\u001b[0m\n\u001b[1;32m---> 13\u001b[1;33m             \u001b[1;32mraise\u001b[0m \u001b[0mValueError\u001b[0m\u001b[1;33m(\u001b[0m\u001b[1;33m)\u001b[0m\u001b[1;33m\u001b[0m\u001b[1;33m\u001b[0m\u001b[0m\n\u001b[0m",
      "\u001b[1;31mValueError\u001b[0m: "
     ]
    }
   ],
   "source": [
    "obj = distance(input_distance_unit = \"jh\")\n",
    "obj # this will raise `ValueError`"
   ]
  },
  {
   "cell_type": "markdown",
   "id": "7586ce21",
   "metadata": {},
   "source": [
    "## Boilerplate"
   ]
  },
  {
   "cell_type": "code",
   "execution_count": 114,
   "id": "edda320e",
   "metadata": {
    "ExecuteTime": {
     "end_time": "2022-03-21T18:45:19.536904Z",
     "start_time": "2022-03-21T18:45:19.513686Z"
    },
    "deletable": false,
    "editable": false
   },
   "outputs": [],
   "source": [
    "class UnitError(ValueError):\n",
    "    \"\"\"Raised when the Provided Argument Value is not Accepted\"\"\""
   ]
  },
  {
   "cell_type": "code",
   "execution_count": 104,
   "id": "a2ba569b",
   "metadata": {
    "ExecuteTime": {
     "end_time": "2022-03-21T18:26:52.853540Z",
     "start_time": "2022-03-21T18:26:52.840079Z"
    },
    "deletable": false,
    "editable": false
   },
   "outputs": [],
   "source": [
    "class TypeWarning(Warning):\n",
    "    \"\"\"Warning is Raised when Argument has a Type that is Not Expected\"\"\""
   ]
  },
  {
   "cell_type": "code",
   "execution_count": 116,
   "id": "e76c59e1",
   "metadata": {
    "ExecuteTime": {
     "end_time": "2022-03-21T18:46:15.205044Z",
     "start_time": "2022-03-21T18:46:15.177042Z"
    }
   },
   "outputs": [],
   "source": [
    "@dataclass\n",
    "class MyClass(object):\n",
    "    \"\"\"\n",
    "    `dataclass` boilerplate that I personally use in most of my\n",
    "    projects. The boilerplate provides the following use casses in\n",
    "    addition to basic features as discussed above:\n",
    "      * A `__post_init__` method is defined which can be used for\n",
    "        parameter checking.\n",
    "      * A `classmethod` that can take several arguments, and\n",
    "        filters only necessary arguments to the class. This is\n",
    "        particularly helpful when a child class/function accepts\n",
    "        many keyword arguments in addition to the ones defined here.\n",
    "    \"\"\"\n",
    "    \n",
    "    foo : str\n",
    "    bar : type = field(default = \"value\", repr = False)\n",
    "        \n",
    "    @classmethod\n",
    "    def from_dict(cls, env):\n",
    "        \"\"\"\n",
    "        This method accepts `n` keyword arguments, even ones\n",
    "        which are not defined in the data class and filters only\n",
    "        the ones defined here. Help link:\n",
    "        # https://stackoverflow.com/a/55096964/6623589\n",
    "        \"\"\"\n",
    "        \n",
    "        return cls(**{\n",
    "            k : v for k, v in env.items()\n",
    "            if k in inspect.signature(cls).parameters\n",
    "        })\n",
    "    \n",
    "    def __accepted_units__(self, param : str):\n",
    "        \"\"\"\n",
    "        Lets assume that `foo` accepts only certain values,\n",
    "        this function can be used to define those variables,\n",
    "        and check if the passed values is accepted/not.\n",
    "        \n",
    "        :param param: Name of the parameter, typically can be\n",
    "                      using: `dataclasses.fields(self)[#].name`\n",
    "        \"\"\"\n",
    "        \n",
    "        return {\n",
    "            \"foo\" : [\"accepted-1\", \"accepted-2\"]\n",
    "        }.get(param, None)\n",
    "        \n",
    "    def __post_init__(self) -> None:\n",
    "        \"\"\"\n",
    "        This method is automatically envoked just after `__init__()`\n",
    "        as the name suggests. The method can be used for controlling\n",
    "        `init` arguments. For example: say a argument only accepts\n",
    "        certain values. In addition, the method can also be used to\n",
    "        check if passed argument type is same as that provided in\n",
    "        defination - else raise a warning or an error as required.\n",
    "        \"\"\"\n",
    "        \n",
    "        for f in dataclasses.fields(self):\n",
    "            # for each f (field name) check if defined\n",
    "            # type matches with the data type of the variable\n",
    "            if type(getattr(self, f.name)) != f.type:\n",
    "                # if the data type is not matched, then either\n",
    "                # raise an error like:\n",
    "                # raise TypeError(f\"Expected `{f.name}` of type {f.type}, but got {type(getattr(self, f.name))}\")\n",
    "                # or, you can even raise a custom warning like:\n",
    "                warnings.warn(f\"Expected `{f.name}` of type {f.type}, but got {type(getattr(self, f.name))}\", TypeWarning)\n",
    "                \n",
    "            # for each f (field name) check if given value\n",
    "            # is accepted or not. This is set under `try... catch`\n",
    "            # as all fields may not have default accepted arguments.\n",
    "            try:\n",
    "                if getattr(self, f.name) not in self.__accepted_units__(f.name):\n",
    "                    # raise an error like:\n",
    "                    raise UnitError(f\"{getattr(self, f.name)} is not accepted.\")\n",
    "            except TypeError:\n",
    "                # TypeError: argument of type 'NoneType' is not iterable\n",
    "                pass"
   ]
  },
  {
   "cell_type": "code",
   "execution_count": 118,
   "id": "f9d2163e",
   "metadata": {
    "ExecuteTime": {
     "end_time": "2022-03-21T18:46:41.293496Z",
     "start_time": "2022-03-21T18:46:41.273030Z"
    }
   },
   "outputs": [
    {
     "ename": "UnitError",
     "evalue": "accepted-3 is not accepted.",
     "output_type": "error",
     "traceback": [
      "\u001b[1;31m---------------------------------------------------------------------------\u001b[0m",
      "\u001b[1;31mUnitError\u001b[0m                                 Traceback (most recent call last)",
      "\u001b[1;32m~\\AppData\\Local\\Temp/ipykernel_7792/2172771783.py\u001b[0m in \u001b[0;36m<module>\u001b[1;34m\u001b[0m\n\u001b[1;32m----> 1\u001b[1;33m \u001b[0mMyClass\u001b[0m\u001b[1;33m(\u001b[0m\u001b[0mfoo\u001b[0m \u001b[1;33m=\u001b[0m \u001b[1;34m\"accepted-3\"\u001b[0m\u001b[1;33m)\u001b[0m\u001b[1;33m\u001b[0m\u001b[1;33m\u001b[0m\u001b[0m\n\u001b[0m",
      "\u001b[1;32m<string>\u001b[0m in \u001b[0;36m__init__\u001b[1;34m(self, foo, bar)\u001b[0m\n",
      "\u001b[1;32m~\\AppData\\Local\\Temp/ipykernel_7792/3825114628.py\u001b[0m in \u001b[0;36m__post_init__\u001b[1;34m(self)\u001b[0m\n\u001b[0;32m     70\u001b[0m                 \u001b[1;32mif\u001b[0m \u001b[0mgetattr\u001b[0m\u001b[1;33m(\u001b[0m\u001b[0mself\u001b[0m\u001b[1;33m,\u001b[0m \u001b[0mf\u001b[0m\u001b[1;33m.\u001b[0m\u001b[0mname\u001b[0m\u001b[1;33m)\u001b[0m \u001b[1;32mnot\u001b[0m \u001b[1;32min\u001b[0m \u001b[0mself\u001b[0m\u001b[1;33m.\u001b[0m\u001b[0m__accepted_units__\u001b[0m\u001b[1;33m(\u001b[0m\u001b[0mf\u001b[0m\u001b[1;33m.\u001b[0m\u001b[0mname\u001b[0m\u001b[1;33m)\u001b[0m\u001b[1;33m:\u001b[0m\u001b[1;33m\u001b[0m\u001b[1;33m\u001b[0m\u001b[0m\n\u001b[0;32m     71\u001b[0m                     \u001b[1;31m# raise an error like:\u001b[0m\u001b[1;33m\u001b[0m\u001b[1;33m\u001b[0m\u001b[1;33m\u001b[0m\u001b[0m\n\u001b[1;32m---> 72\u001b[1;33m                     \u001b[1;32mraise\u001b[0m \u001b[0mUnitError\u001b[0m\u001b[1;33m(\u001b[0m\u001b[1;34mf\"{getattr(self, f.name)} is not accepted.\"\u001b[0m\u001b[1;33m)\u001b[0m\u001b[1;33m\u001b[0m\u001b[1;33m\u001b[0m\u001b[0m\n\u001b[0m\u001b[0;32m     73\u001b[0m             \u001b[1;32mexcept\u001b[0m \u001b[0mTypeError\u001b[0m\u001b[1;33m:\u001b[0m\u001b[1;33m\u001b[0m\u001b[1;33m\u001b[0m\u001b[0m\n\u001b[0;32m     74\u001b[0m                 \u001b[1;31m# TypeError: argument of type 'NoneType' is not iterable\u001b[0m\u001b[1;33m\u001b[0m\u001b[1;33m\u001b[0m\u001b[1;33m\u001b[0m\u001b[0m\n",
      "\u001b[1;31mUnitError\u001b[0m: accepted-3 is not accepted."
     ]
    }
   ],
   "source": [
    "MyClass(foo = \"accepted-3\")"
   ]
  },
  {
   "cell_type": "code",
   "execution_count": 113,
   "id": "b64077e2",
   "metadata": {
    "ExecuteTime": {
     "end_time": "2022-03-21T18:43:10.445320Z",
     "start_time": "2022-03-21T18:43:10.426084Z"
    }
   },
   "outputs": [
    {
     "ename": "TypeError",
     "evalue": "argument of type 'NoneType' is not iterable",
     "output_type": "error",
     "traceback": [
      "\u001b[1;31m---------------------------------------------------------------------------\u001b[0m",
      "\u001b[1;31mTypeError\u001b[0m                                 Traceback (most recent call last)",
      "\u001b[1;32m~\\AppData\\Local\\Temp/ipykernel_7792/3174171733.py\u001b[0m in \u001b[0;36m<module>\u001b[1;34m\u001b[0m\n\u001b[1;32m----> 1\u001b[1;33m \u001b[1;34m\"a\"\u001b[0m \u001b[1;32min\u001b[0m \u001b[1;32mNone\u001b[0m\u001b[1;33m\u001b[0m\u001b[1;33m\u001b[0m\u001b[0m\n\u001b[0m",
      "\u001b[1;31mTypeError\u001b[0m: argument of type 'NoneType' is not iterable"
     ]
    }
   ],
   "source": [
    "\"a\" in None"
   ]
  },
  {
   "cell_type": "markdown",
   "id": "f8a3eeb7",
   "metadata": {},
   "source": [
    "**Advanced Functionalities** and Multiple Initialization"
   ]
  },
  {
   "cell_type": "code",
   "execution_count": 69,
   "id": "6470a321",
   "metadata": {
    "ExecuteTime": {
     "end_time": "2022-03-21T17:43:01.238652Z",
     "start_time": "2022-03-21T17:43:01.230639Z"
    }
   },
   "outputs": [],
   "source": [
    "@dataclass()\n",
    "class distance(object):\n",
    "    input_distance_unit  : str = field(default = \"km\")\n",
    "    output_distance_unit : str = field(default = \"km\")\n",
    "        \n",
    "    @classmethod\n",
    "    def from_dict(cls, env):\n",
    "        return cls(**{\n",
    "            k : v for k, v in env.items()\n",
    "            if k in inspect.signature(cls).parameters\n",
    "        })\n",
    "    \n",
    "    @property\n",
    "    def max_distance(self) -> float:\n",
    "        if self.input_distance_unit == \"km\":\n",
    "            d = 10\n",
    "        else:\n",
    "            d = 10_000\n",
    "            \n",
    "        return d"
   ]
  },
  {
   "cell_type": "code",
   "execution_count": 73,
   "id": "67acf4b8",
   "metadata": {
    "ExecuteTime": {
     "end_time": "2022-03-21T17:43:21.993050Z",
     "start_time": "2022-03-21T17:43:21.973550Z"
    }
   },
   "outputs": [
    {
     "data": {
      "text/plain": [
       "10"
      ]
     },
     "execution_count": 73,
     "metadata": {},
     "output_type": "execute_result"
    }
   ],
   "source": [
    "distance().max_distance\n",
    "# distance().max_distance()"
   ]
  },
  {
   "cell_type": "code",
   "execution_count": 71,
   "id": "236ed078",
   "metadata": {
    "ExecuteTime": {
     "end_time": "2022-03-21T17:43:13.305276Z",
     "start_time": "2022-03-21T17:43:13.285382Z"
    }
   },
   "outputs": [
    {
     "data": {
      "text/plain": [
       "distance(input_distance_unit='m', output_distance_unit='km')"
      ]
     },
     "execution_count": 71,
     "metadata": {},
     "output_type": "execute_result"
    }
   ],
   "source": [
    "distance(input_distance_unit = \"m\")"
   ]
  },
  {
   "cell_type": "code",
   "execution_count": 70,
   "id": "a8f14c3e",
   "metadata": {
    "ExecuteTime": {
     "end_time": "2022-03-21T17:43:06.004673Z",
     "start_time": "2022-03-21T17:43:05.996967Z"
    }
   },
   "outputs": [
    {
     "data": {
      "text/plain": [
       "({'input_distance_unit': 'km', 'output_distance_unit': 'km'},\n",
       " \"distance(input_distance_unit='km', output_distance_unit='km')\")"
      ]
     },
     "execution_count": 70,
     "metadata": {},
     "output_type": "execute_result"
    }
   ],
   "source": [
    "asdict(distance()), repr(distance())"
   ]
  },
  {
   "cell_type": "code",
   "execution_count": 45,
   "id": "aa5af2f3",
   "metadata": {
    "ExecuteTime": {
     "end_time": "2022-03-21T17:20:11.996601Z",
     "start_time": "2022-03-21T17:20:11.977170Z"
    }
   },
   "outputs": [],
   "source": [
    "def myFunction(a = 10, **kwargs):\n",
    "    dist = distance.from_dict(kwargs)\n",
    "    return dist"
   ]
  },
  {
   "cell_type": "code",
   "execution_count": 46,
   "id": "e1e4bf74",
   "metadata": {
    "ExecuteTime": {
     "end_time": "2022-03-21T17:20:13.543515Z",
     "start_time": "2022-03-21T17:20:13.528992Z"
    }
   },
   "outputs": [
    {
     "data": {
      "text/plain": [
       "distance(input_distance_unit='m', output_distance_unit='km')"
      ]
     },
     "execution_count": 46,
     "metadata": {},
     "output_type": "execute_result"
    }
   ],
   "source": [
    "myFunction(input_distance_unit = \"m\", omg = 9)"
   ]
  },
  {
   "cell_type": "code",
   "execution_count": 32,
   "id": "2f7f0e0d",
   "metadata": {
    "ExecuteTime": {
     "end_time": "2022-03-21T13:30:50.929097Z",
     "start_time": "2022-03-21T13:30:50.907893Z"
    }
   },
   "outputs": [
    {
     "ename": "TypeError",
     "evalue": "from_dict() got an unexpected keyword argument 'var_1'",
     "output_type": "error",
     "traceback": [
      "\u001b[1;31m---------------------------------------------------------------------------\u001b[0m",
      "\u001b[1;31mTypeError\u001b[0m                                 Traceback (most recent call last)",
      "\u001b[1;32m~\\AppData\\Local\\Temp/ipykernel_7792/2574529623.py\u001b[0m in \u001b[0;36m<module>\u001b[1;34m\u001b[0m\n\u001b[0;32m     14\u001b[0m \u001b[1;31m# usage:\u001b[0m\u001b[1;33m\u001b[0m\u001b[1;33m\u001b[0m\u001b[1;33m\u001b[0m\u001b[0m\n\u001b[0;32m     15\u001b[0m \u001b[0mparams\u001b[0m \u001b[1;33m=\u001b[0m \u001b[1;33m{\u001b[0m\u001b[1;34m'var_1'\u001b[0m\u001b[1;33m:\u001b[0m \u001b[1;34m'a'\u001b[0m\u001b[1;33m,\u001b[0m \u001b[1;34m'var_2'\u001b[0m\u001b[1;33m:\u001b[0m \u001b[1;34m'b'\u001b[0m\u001b[1;33m,\u001b[0m \u001b[1;34m'var_3'\u001b[0m\u001b[1;33m:\u001b[0m \u001b[1;34m'c'\u001b[0m\u001b[1;33m}\u001b[0m\u001b[1;33m\u001b[0m\u001b[1;33m\u001b[0m\u001b[0m\n\u001b[1;32m---> 16\u001b[1;33m \u001b[0mc\u001b[0m \u001b[1;33m=\u001b[0m \u001b[0mConfig\u001b[0m\u001b[1;33m.\u001b[0m\u001b[0mfrom_dict\u001b[0m\u001b[1;33m(\u001b[0m\u001b[1;33m**\u001b[0m\u001b[0mparams\u001b[0m\u001b[1;33m)\u001b[0m   \u001b[1;31m# works without raising a TypeError\u001b[0m\u001b[1;33m\u001b[0m\u001b[1;33m\u001b[0m\u001b[0m\n\u001b[0m\u001b[0;32m     17\u001b[0m \u001b[0masdict\u001b[0m\u001b[1;33m(\u001b[0m\u001b[0mc\u001b[0m\u001b[1;33m)\u001b[0m\u001b[1;33m\u001b[0m\u001b[1;33m\u001b[0m\u001b[0m\n",
      "\u001b[1;31mTypeError\u001b[0m: from_dict() got an unexpected keyword argument 'var_1'"
     ]
    }
   ],
   "source": [
    "@dataclass\n",
    "class Config:\n",
    "    var_1: str = field(default = \"km\")\n",
    "    var_2: str = field(default = \"km\")\n",
    "\n",
    "    @classmethod\n",
    "    def from_dict(cls, env):      \n",
    "        return cls(**{\n",
    "            k: v for k, v in env.items() \n",
    "            if k in inspect.signature(cls).parameters\n",
    "        })\n",
    "\n",
    "\n",
    "# usage:\n",
    "params = {'var_1': 'a', 'var_2': 'b', 'var_3': 'c'}\n",
    "c = Config.from_dict(**params)   # works without raising a TypeError\n",
    "asdict(c)"
   ]
  }
 ],
 "metadata": {
  "kernelspec": {
   "display_name": "Python 3 (ipykernel)",
   "language": "python",
   "name": "python3"
  },
  "language_info": {
   "codemirror_mode": {
    "name": "ipython",
    "version": 3
   },
   "file_extension": ".py",
   "mimetype": "text/x-python",
   "name": "python",
   "nbconvert_exporter": "python",
   "pygments_lexer": "ipython3",
   "version": "3.8.3"
  },
  "latex_envs": {
   "LaTeX_envs_menu_present": true,
   "autoclose": false,
   "autocomplete": true,
   "bibliofile": "biblio.bib",
   "cite_by": "apalike",
   "current_citInitial": 1,
   "eqLabelWithNumbers": true,
   "eqNumInitial": 1,
   "hotkeys": {
    "equation": "Ctrl-E",
    "itemize": "Ctrl-I"
   },
   "labels_anchors": false,
   "latex_user_defs": false,
   "report_style_numbering": false,
   "user_envs_cfg": false
  },
  "toc": {
   "base_numbering": 1,
   "nav_menu": {},
   "number_sections": false,
   "sideBar": true,
   "skip_h1_title": true,
   "title_cell": "Table of Contents",
   "title_sidebar": "Contents",
   "toc_cell": false,
   "toc_position": {},
   "toc_section_display": true,
   "toc_window_display": false
  },
  "varInspector": {
   "cols": {
    "lenName": 16,
    "lenType": 16,
    "lenVar": 40
   },
   "kernels_config": {
    "python": {
     "delete_cmd_postfix": "",
     "delete_cmd_prefix": "del ",
     "library": "var_list.py",
     "varRefreshCmd": "print(var_dic_list())"
    },
    "r": {
     "delete_cmd_postfix": ") ",
     "delete_cmd_prefix": "rm(",
     "library": "var_list.r",
     "varRefreshCmd": "cat(var_dic_list()) "
    }
   },
   "types_to_exclude": [
    "module",
    "function",
    "builtin_function_or_method",
    "instance",
    "_Feature"
   ],
   "window_display": false
  }
 },
 "nbformat": 4,
 "nbformat_minor": 5
}
